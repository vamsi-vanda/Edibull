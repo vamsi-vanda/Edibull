{
 "cells": [
  {
   "cell_type": "code",
   "execution_count": 2,
   "metadata": {
    "collapsed": true
   },
   "outputs": [],
   "source": [
    "import nltk\n",
    "import pandas as pd"
   ]
  },
  {
   "cell_type": "code",
   "execution_count": 3,
   "metadata": {
    "collapsed": true
   },
   "outputs": [],
   "source": [
    "Data = pd.read_csv(\"/Users/vamsi_5/EDIBULL/final2-labelled.csv\")"
   ]
  },
  {
   "cell_type": "code",
   "execution_count": 5,
   "metadata": {},
   "outputs": [
    {
     "data": {
      "text/html": [
       "<div>\n",
       "<style>\n",
       "    .dataframe thead tr:only-child th {\n",
       "        text-align: right;\n",
       "    }\n",
       "\n",
       "    .dataframe thead th {\n",
       "        text-align: left;\n",
       "    }\n",
       "\n",
       "    .dataframe tbody tr th {\n",
       "        vertical-align: top;\n",
       "    }\n",
       "</style>\n",
       "<table border=\"1\" class=\"dataframe\">\n",
       "  <thead>\n",
       "    <tr style=\"text-align: right;\">\n",
       "      <th></th>\n",
       "      <th>Unnamed: 0</th>\n",
       "      <th>Unnamed: 0.1</th>\n",
       "      <th>eventId</th>\n",
       "      <th>title</th>\n",
       "      <th>description</th>\n",
       "      <th>host</th>\n",
       "      <th>host id</th>\n",
       "      <th>Status</th>\n",
       "    </tr>\n",
       "  </thead>\n",
       "  <tbody>\n",
       "    <tr>\n",
       "      <th>0</th>\n",
       "      <td>0</td>\n",
       "      <td>38</td>\n",
       "      <td>656943000000000</td>\n",
       "      <td>Taste of China</td>\n",
       "      <td>Come to our event where there will be games, p...</td>\n",
       "      <td>USF Chinese Culture and Language Club</td>\n",
       "      <td>6.882421e+10</td>\n",
       "      <td>no</td>\n",
       "    </tr>\n",
       "    <tr>\n",
       "      <th>1</th>\n",
       "      <td>1</td>\n",
       "      <td>39</td>\n",
       "      <td>353969000000000</td>\n",
       "      <td>5th Annual Eid Extravaganza</td>\n",
       "      <td>Come out for our BIGGEST event of the year, ho...</td>\n",
       "      <td>Bengali Students Association at USF</td>\n",
       "      <td>2.600000e+14</td>\n",
       "      <td>no</td>\n",
       "    </tr>\n",
       "    <tr>\n",
       "      <th>2</th>\n",
       "      <td>2</td>\n",
       "      <td>40</td>\n",
       "      <td>325140000000000</td>\n",
       "      <td>International Food Battle</td>\n",
       "      <td>DELICIOUS FREE FOOD. STUNNING PERFORMANCES. A ...</td>\n",
       "      <td>Bengali Students Association at USF</td>\n",
       "      <td>2.600000e+14</td>\n",
       "      <td>no</td>\n",
       "    </tr>\n",
       "    <tr>\n",
       "      <th>3</th>\n",
       "      <td>3</td>\n",
       "      <td>41</td>\n",
       "      <td>513864000000000</td>\n",
       "      <td>SIA: Diwali Dhamaka 2016</td>\n",
       "      <td>The long-anticipated event of the year is here...</td>\n",
       "      <td>Students of India Association - USF</td>\n",
       "      <td>3.730000e+14</td>\n",
       "      <td>no</td>\n",
       "    </tr>\n",
       "    <tr>\n",
       "      <th>4</th>\n",
       "      <td>4</td>\n",
       "      <td>42</td>\n",
       "      <td>286476000000000</td>\n",
       "      <td>BLACK OUT</td>\n",
       "      <td>★★★★★The UNOFFICIAL INDIAFEST AFTER PARTY !!!!...</td>\n",
       "      <td>Temi Kowobari</td>\n",
       "      <td>9.960000e+14</td>\n",
       "      <td>no</td>\n",
       "    </tr>\n",
       "  </tbody>\n",
       "</table>\n",
       "</div>"
      ],
      "text/plain": [
       "   Unnamed: 0  Unnamed: 0.1          eventId                        title  \\\n",
       "0           0            38  656943000000000               Taste of China   \n",
       "1           1            39  353969000000000  5th Annual Eid Extravaganza   \n",
       "2           2            40  325140000000000    International Food Battle   \n",
       "3           3            41  513864000000000     SIA: Diwali Dhamaka 2016   \n",
       "4           4            42  286476000000000                    BLACK OUT   \n",
       "\n",
       "                                         description  \\\n",
       "0  Come to our event where there will be games, p...   \n",
       "1  Come out for our BIGGEST event of the year, ho...   \n",
       "2  DELICIOUS FREE FOOD. STUNNING PERFORMANCES. A ...   \n",
       "3  The long-anticipated event of the year is here...   \n",
       "4  ★★★★★The UNOFFICIAL INDIAFEST AFTER PARTY !!!!...   \n",
       "\n",
       "                                    host       host id Status  \n",
       "0  USF Chinese Culture and Language Club  6.882421e+10     no  \n",
       "1    Bengali Students Association at USF  2.600000e+14     no  \n",
       "2    Bengali Students Association at USF  2.600000e+14     no  \n",
       "3    Students of India Association - USF  3.730000e+14     no  \n",
       "4                          Temi Kowobari  9.960000e+14     no  "
      ]
     },
     "execution_count": 5,
     "metadata": {},
     "output_type": "execute_result"
    }
   ],
   "source": [
    "Data.head()"
   ]
  },
  {
   "cell_type": "code",
   "execution_count": 6,
   "metadata": {},
   "outputs": [
    {
     "data": {
      "text/html": [
       "<div>\n",
       "<style>\n",
       "    .dataframe thead tr:only-child th {\n",
       "        text-align: right;\n",
       "    }\n",
       "\n",
       "    .dataframe thead th {\n",
       "        text-align: left;\n",
       "    }\n",
       "\n",
       "    .dataframe tbody tr th {\n",
       "        vertical-align: top;\n",
       "    }\n",
       "</style>\n",
       "<table border=\"1\" class=\"dataframe\">\n",
       "  <thead>\n",
       "    <tr>\n",
       "      <th></th>\n",
       "      <th colspan=\"8\" halign=\"left\">Unnamed: 0</th>\n",
       "      <th colspan=\"2\" halign=\"left\">Unnamed: 0.1</th>\n",
       "      <th>...</th>\n",
       "      <th colspan=\"2\" halign=\"left\">eventId</th>\n",
       "      <th colspan=\"8\" halign=\"left\">host id</th>\n",
       "    </tr>\n",
       "    <tr>\n",
       "      <th></th>\n",
       "      <th>count</th>\n",
       "      <th>mean</th>\n",
       "      <th>std</th>\n",
       "      <th>min</th>\n",
       "      <th>25%</th>\n",
       "      <th>50%</th>\n",
       "      <th>75%</th>\n",
       "      <th>max</th>\n",
       "      <th>count</th>\n",
       "      <th>mean</th>\n",
       "      <th>...</th>\n",
       "      <th>75%</th>\n",
       "      <th>max</th>\n",
       "      <th>count</th>\n",
       "      <th>mean</th>\n",
       "      <th>std</th>\n",
       "      <th>min</th>\n",
       "      <th>25%</th>\n",
       "      <th>50%</th>\n",
       "      <th>75%</th>\n",
       "      <th>max</th>\n",
       "    </tr>\n",
       "    <tr>\n",
       "      <th>Status</th>\n",
       "      <th></th>\n",
       "      <th></th>\n",
       "      <th></th>\n",
       "      <th></th>\n",
       "      <th></th>\n",
       "      <th></th>\n",
       "      <th></th>\n",
       "      <th></th>\n",
       "      <th></th>\n",
       "      <th></th>\n",
       "      <th></th>\n",
       "      <th></th>\n",
       "      <th></th>\n",
       "      <th></th>\n",
       "      <th></th>\n",
       "      <th></th>\n",
       "      <th></th>\n",
       "      <th></th>\n",
       "      <th></th>\n",
       "      <th></th>\n",
       "      <th></th>\n",
       "    </tr>\n",
       "  </thead>\n",
       "  <tbody>\n",
       "    <tr>\n",
       "      <th>no</th>\n",
       "      <td>166.0</td>\n",
       "      <td>134.325301</td>\n",
       "      <td>93.879627</td>\n",
       "      <td>0.0</td>\n",
       "      <td>47.50</td>\n",
       "      <td>125.5</td>\n",
       "      <td>211.75</td>\n",
       "      <td>306.0</td>\n",
       "      <td>166.0</td>\n",
       "      <td>286.638554</td>\n",
       "      <td>...</td>\n",
       "      <td>5.075760e+14</td>\n",
       "      <td>2.064900e+15</td>\n",
       "      <td>166.0</td>\n",
       "      <td>5.617009e+14</td>\n",
       "      <td>1.569521e+15</td>\n",
       "      <td>2.415733e+09</td>\n",
       "      <td>1.060000e+14</td>\n",
       "      <td>2.015000e+14</td>\n",
       "      <td>5.015000e+14</td>\n",
       "      <td>1.020000e+16</td>\n",
       "    </tr>\n",
       "    <tr>\n",
       "      <th>yes</th>\n",
       "      <td>142.0</td>\n",
       "      <td>175.915493</td>\n",
       "      <td>77.561551</td>\n",
       "      <td>20.0</td>\n",
       "      <td>112.25</td>\n",
       "      <td>177.5</td>\n",
       "      <td>242.50</td>\n",
       "      <td>307.0</td>\n",
       "      <td>142.0</td>\n",
       "      <td>363.359155</td>\n",
       "      <td>...</td>\n",
       "      <td>5.088410e+14</td>\n",
       "      <td>2.129780e+15</td>\n",
       "      <td>142.0</td>\n",
       "      <td>5.316645e+14</td>\n",
       "      <td>1.467158e+15</td>\n",
       "      <td>8.851161e+09</td>\n",
       "      <td>1.190000e+14</td>\n",
       "      <td>2.015000e+14</td>\n",
       "      <td>5.050000e+14</td>\n",
       "      <td>1.020000e+16</td>\n",
       "    </tr>\n",
       "  </tbody>\n",
       "</table>\n",
       "<p>2 rows × 32 columns</p>\n",
       "</div>"
      ],
      "text/plain": [
       "       Unnamed: 0                                                             \\\n",
       "            count        mean        std   min     25%    50%     75%    max   \n",
       "Status                                                                         \n",
       "no          166.0  134.325301  93.879627   0.0   47.50  125.5  211.75  306.0   \n",
       "yes         142.0  175.915493  77.561551  20.0  112.25  177.5  242.50  307.0   \n",
       "\n",
       "       Unnamed: 0.1                  ...            eventId                \\\n",
       "              count        mean      ...                75%           max   \n",
       "Status                               ...                                    \n",
       "no            166.0  286.638554      ...       5.075760e+14  2.064900e+15   \n",
       "yes           142.0  363.359155      ...       5.088410e+14  2.129780e+15   \n",
       "\n",
       "       host id                                                          \\\n",
       "         count          mean           std           min           25%   \n",
       "Status                                                                   \n",
       "no       166.0  5.617009e+14  1.569521e+15  2.415733e+09  1.060000e+14   \n",
       "yes      142.0  5.316645e+14  1.467158e+15  8.851161e+09  1.190000e+14   \n",
       "\n",
       "                                                  \n",
       "                 50%           75%           max  \n",
       "Status                                            \n",
       "no      2.015000e+14  5.015000e+14  1.020000e+16  \n",
       "yes     2.015000e+14  5.050000e+14  1.020000e+16  \n",
       "\n",
       "[2 rows x 32 columns]"
      ]
     },
     "execution_count": 6,
     "metadata": {},
     "output_type": "execute_result"
    }
   ],
   "source": [
    "Data.groupby('Status').describe()"
   ]
  },
  {
   "cell_type": "code",
   "execution_count": 7,
   "metadata": {},
   "outputs": [
    {
     "data": {
      "text/html": [
       "<div>\n",
       "<style>\n",
       "    .dataframe thead tr:only-child th {\n",
       "        text-align: right;\n",
       "    }\n",
       "\n",
       "    .dataframe thead th {\n",
       "        text-align: left;\n",
       "    }\n",
       "\n",
       "    .dataframe tbody tr th {\n",
       "        vertical-align: top;\n",
       "    }\n",
       "</style>\n",
       "<table border=\"1\" class=\"dataframe\">\n",
       "  <thead>\n",
       "    <tr style=\"text-align: right;\">\n",
       "      <th></th>\n",
       "      <th>Unnamed: 0</th>\n",
       "      <th>Unnamed: 0.1</th>\n",
       "      <th>eventId</th>\n",
       "      <th>title</th>\n",
       "      <th>description</th>\n",
       "      <th>host</th>\n",
       "      <th>host id</th>\n",
       "      <th>Status</th>\n",
       "      <th>length</th>\n",
       "    </tr>\n",
       "  </thead>\n",
       "  <tbody>\n",
       "    <tr>\n",
       "      <th>0</th>\n",
       "      <td>0</td>\n",
       "      <td>38</td>\n",
       "      <td>656943000000000</td>\n",
       "      <td>Taste of China</td>\n",
       "      <td>Come to our event where there will be games, p...</td>\n",
       "      <td>USF Chinese Culture and Language Club</td>\n",
       "      <td>6.882421e+10</td>\n",
       "      <td>no</td>\n",
       "      <td>228</td>\n",
       "    </tr>\n",
       "    <tr>\n",
       "      <th>1</th>\n",
       "      <td>1</td>\n",
       "      <td>39</td>\n",
       "      <td>353969000000000</td>\n",
       "      <td>5th Annual Eid Extravaganza</td>\n",
       "      <td>Come out for our BIGGEST event of the year, ho...</td>\n",
       "      <td>Bengali Students Association at USF</td>\n",
       "      <td>2.600000e+14</td>\n",
       "      <td>no</td>\n",
       "      <td>2264</td>\n",
       "    </tr>\n",
       "    <tr>\n",
       "      <th>2</th>\n",
       "      <td>2</td>\n",
       "      <td>40</td>\n",
       "      <td>325140000000000</td>\n",
       "      <td>International Food Battle</td>\n",
       "      <td>DELICIOUS FREE FOOD. STUNNING PERFORMANCES. A ...</td>\n",
       "      <td>Bengali Students Association at USF</td>\n",
       "      <td>2.600000e+14</td>\n",
       "      <td>no</td>\n",
       "      <td>1419</td>\n",
       "    </tr>\n",
       "    <tr>\n",
       "      <th>3</th>\n",
       "      <td>3</td>\n",
       "      <td>41</td>\n",
       "      <td>513864000000000</td>\n",
       "      <td>SIA: Diwali Dhamaka 2016</td>\n",
       "      <td>The long-anticipated event of the year is here...</td>\n",
       "      <td>Students of India Association - USF</td>\n",
       "      <td>3.730000e+14</td>\n",
       "      <td>no</td>\n",
       "      <td>1672</td>\n",
       "    </tr>\n",
       "    <tr>\n",
       "      <th>4</th>\n",
       "      <td>4</td>\n",
       "      <td>42</td>\n",
       "      <td>286476000000000</td>\n",
       "      <td>BLACK OUT</td>\n",
       "      <td>★★★★★The UNOFFICIAL INDIAFEST AFTER PARTY !!!!...</td>\n",
       "      <td>Temi Kowobari</td>\n",
       "      <td>9.960000e+14</td>\n",
       "      <td>no</td>\n",
       "      <td>845</td>\n",
       "    </tr>\n",
       "  </tbody>\n",
       "</table>\n",
       "</div>"
      ],
      "text/plain": [
       "   Unnamed: 0  Unnamed: 0.1          eventId                        title  \\\n",
       "0           0            38  656943000000000               Taste of China   \n",
       "1           1            39  353969000000000  5th Annual Eid Extravaganza   \n",
       "2           2            40  325140000000000    International Food Battle   \n",
       "3           3            41  513864000000000     SIA: Diwali Dhamaka 2016   \n",
       "4           4            42  286476000000000                    BLACK OUT   \n",
       "\n",
       "                                         description  \\\n",
       "0  Come to our event where there will be games, p...   \n",
       "1  Come out for our BIGGEST event of the year, ho...   \n",
       "2  DELICIOUS FREE FOOD. STUNNING PERFORMANCES. A ...   \n",
       "3  The long-anticipated event of the year is here...   \n",
       "4  ★★★★★The UNOFFICIAL INDIAFEST AFTER PARTY !!!!...   \n",
       "\n",
       "                                    host       host id Status  length  \n",
       "0  USF Chinese Culture and Language Club  6.882421e+10     no     228  \n",
       "1    Bengali Students Association at USF  2.600000e+14     no    2264  \n",
       "2    Bengali Students Association at USF  2.600000e+14     no    1419  \n",
       "3    Students of India Association - USF  3.730000e+14     no    1672  \n",
       "4                          Temi Kowobari  9.960000e+14     no     845  "
      ]
     },
     "execution_count": 7,
     "metadata": {},
     "output_type": "execute_result"
    }
   ],
   "source": [
    "Data['length'] = Data['description'].apply(len)\n",
    "Data.head()"
   ]
  },
  {
   "cell_type": "code",
   "execution_count": 10,
   "metadata": {},
   "outputs": [
    {
     "data": {
      "text/plain": [
       "<matplotlib.axes._subplots.AxesSubplot at 0x10ad14e80>"
      ]
     },
     "execution_count": 10,
     "metadata": {},
     "output_type": "execute_result"
    },
    {
     "data": {
      "image/png": "[encoded data removed]",
      "text/plain": [
       "<Figure size 432x288 with 1 Axes>"
      ]
     },
     "metadata": {},
     "output_type": "display_data"
    }
   ],
   "source": [
    "# In[10]:\n",
    "# Data Visulaization using matplotlib\n",
    "\n",
    "import matplotlib.pyplot as plt\n",
    "import seaborn as sns\n",
    "\n",
    "get_ipython().magic('matplotlib inline')\n",
    "# In[11]:\n",
    "Data['length'].plot(bins=50, kind='hist')\n",
    "\n",
    "#The length of the description is mostly between 0 and 1000."
   ]
  },
  {
   "cell_type": "code",
   "execution_count": 17,
   "metadata": {},
   "outputs": [
    {
     "data": {
      "text/plain": [
       "'S'"
      ]
     },
     "execution_count": 17,
     "metadata": {},
     "output_type": "execute_result"
    }
   ],
   "source": [
    "# Text Preprocessing\n",
    "import string\n",
    "# Removing punctuations\n",
    "mess = 'Sample message! Notice: it has punctuation.'\n",
    "# Check characters to see if they are in punctuation\n",
    "nopunc = [char for char in mess if char not in string.punctuation]\n",
    "# Join the characters again to form the string.\n",
    "nopunc = ''.join(nopunc)\n",
    "nopunc[0]"
   ]
  },
  {
   "cell_type": "code",
   "execution_count": 18,
   "metadata": {},
   "outputs": [
    {
     "data": {
      "text/plain": [
       "['i', 'me', 'my', 'myself', 'we', 'our', 'ours', 'ourselves', 'you', \"you're\"]"
      ]
     },
     "execution_count": 18,
     "metadata": {},
     "output_type": "execute_result"
    }
   ],
   "source": [
    "from nltk.corpus import stopwords\n",
    "stopwords.words('english')[0:10] # Show some stop words\n",
    "\n",
    "\n"
   ]
  },
  {
   "cell_type": "code",
   "execution_count": 19,
   "metadata": {},
   "outputs": [
    {
     "data": {
      "text/plain": [
       "['Sample', 'message', 'Notice', 'punctuation']"
      ]
     },
     "execution_count": 19,
     "metadata": {},
     "output_type": "execute_result"
    }
   ],
   "source": [
    "nopunc.split()\n",
    "# In[18]:\n",
    "# Now just remove any stopwords\n",
    "clean_mess = [word for word in nopunc.split() if word.lower() not in stopwords.words('english')]\n",
    "# In[19]:\n",
    "clean_mess\n",
    "\n"
   ]
  },
  {
   "cell_type": "code",
   "execution_count": 20,
   "metadata": {
    "collapsed": true
   },
   "outputs": [],
   "source": [
    "#GENERIC FUNCTION to do remove the punctuations and stop words.\n",
    "def text_process(mess):\n",
    "\n",
    "    # Check characters to see if they are in punctuation\n",
    "    nopunc = [char for char in mess if char not in string.punctuation]\n",
    "\n",
    "    # Join the characters again to form the string.\n",
    "    nopunc = ''.join(nopunc)\n",
    "    \n",
    "    # Now just remove any stopwords\n",
    "    return [word for word in nopunc.split() if word.lower() not in stopwords.words('english')]\n"
   ]
  },
  {
   "cell_type": "code",
   "execution_count": 21,
   "metadata": {},
   "outputs": [
    {
     "data": {
      "text/plain": [
       "0    Come to our event where there will be games, p...\n",
       "1    Come out for our BIGGEST event of the year, ho...\n",
       "2    DELICIOUS FREE FOOD. STUNNING PERFORMANCES. A ...\n",
       "3    The long-anticipated event of the year is here...\n",
       "4    ★★★★★The UNOFFICIAL INDIAFEST AFTER PARTY !!!!...\n",
       "Name: description, dtype: object"
      ]
     },
     "execution_count": 21,
     "metadata": {},
     "output_type": "execute_result"
    }
   ],
   "source": [
    "Data['description'].head()"
   ]
  },
  {
   "cell_type": "code",
   "execution_count": 23,
   "metadata": {},
   "outputs": [
    {
     "data": {
      "text/plain": [
       "0    [Come, event, games, performances, best, FREE,...\n",
       "1    [Come, BIGGEST, event, year, hosted, BSA, 20, ...\n",
       "2    [DELICIOUS, FREE, FOOD, STUNNING, PERFORMANCES...\n",
       "3    [longanticipated, event, year, Students, India...\n",
       "4    [★★★★★The, UNOFFICIAL, INDIAFEST, PARTY, ★★★★★...\n",
       "Name: description, dtype: object"
      ]
     },
     "execution_count": 23,
     "metadata": {},
     "output_type": "execute_result"
    }
   ],
   "source": [
    "Data['description'].head(5).apply(text_process)"
   ]
  },
  {
   "cell_type": "code",
   "execution_count": 36,
   "metadata": {},
   "outputs": [
    {
     "name": "stdout",
     "output_type": "stream",
     "text": [
      "6893\n"
     ]
    }
   ],
   "source": [
    "# Doing vectorization \n",
    "from sklearn.feature_extraction.text import CountVectorizer\n",
    "# In[25]:\n",
    "# Might take awhile...\n",
    "bow_transformer = CountVectorizer(analyzer=text_process).fit(Data['description'])\n",
    "# Print total number of vocab words\n",
    "print(len(bow_transformer.vocabulary_))"
   ]
  },
  {
   "cell_type": "code",
   "execution_count": 28,
   "metadata": {},
   "outputs": [
    {
     "name": "stdout",
     "output_type": "stream",
     "text": [
      "The long-anticipated event of the year is here!\n",
      "\n",
      "Students of India Association is excited to present, along with our collaborating organizations, Diwali Dhamaka 2016! \n",
      "Come witness mind-blowing performances by the most talented Desis on campus and become part of an event that showcases our awesome and vibrant culture in the most Desi way possible. You also won't want to miss out on our fashion show called 'Festival Hungama'! Top it all off with a warm, delicious, and hearty Indian Dinner, and you have an experience like no other!\n",
      "\n",
      "We would like to thank our collaborating organizations, namely:\n",
      "Beta Chi Theta\n",
      "Bengali Students Association\n",
      "Bull Bhangra\n",
      "Delta Epsilon Psi\n",
      "International Center for Cultural Studies\n",
      "International Students Association\n",
      "Latin American Students Association\n",
      "Sigma Beta Rho\n",
      "Saffron Indian Cuisine\n",
      "The Ensembull\n",
      "USF Amar\n",
      "USF Naach\n",
      "\n",
      "And a special thank you to our Chief Collaborator:\n",
      "American But Cultured Desi's: ABCD\n",
      "\n",
      "Community Sponsor:\n",
      "Puja Travels, Int. \n",
      "\n",
      "Catered by: \n",
      "Saffron Indian Cuisine of New Tampa \n",
      "- - - - - - - - - - - - - - - - - - - - - - - - - - - - - - - - - - - - - - - - - - - - - - - \n",
      "Additional Information:\n",
      "-       Attendees who join SIA on BullSync will be provided with    priority in the food line. You can register on BullSync at: https://orgsync.com/87242/chapter \n",
      "-       The event is FREE and open to everyone (Students and Non-Students). \n",
      "-       Recommended Attire: Traditional\n",
      " \n",
      "Please contact President Sanjay Chakkoli or Vice-President Raj Patel for reasonable accommodations. (chakkolis@mail.usf.edu, rajp1@usf.edu)\n",
      "- - - - - - - - - - - - - - - - - - - - - - - - - - - - - - - - - - - - - - - - - - - - - - -\n",
      "  (0, 138)\t1\n",
      "  (0, 356)\t1\n",
      "  (0, 413)\t1\n",
      "  (0, 456)\t1\n",
      "  (0, 460)\t2\n",
      "  (0, 532)\t4\n",
      "  (0, 539)\t1\n",
      "  (0, 540)\t1\n",
      "  (0, 638)\t1\n",
      "  (0, 644)\t2\n",
      "  (0, 648)\t1\n",
      "  (0, 715)\t1\n",
      "  (0, 716)\t2\n",
      "  (0, 807)\t1\n",
      "  (0, 812)\t1\n",
      "  (0, 819)\t1\n",
      "  (0, 840)\t1\n",
      "  (0, 845)\t1\n",
      "  (0, 899)\t1\n",
      "  (0, 909)\t1\n",
      "  (0, 921)\t1\n",
      "  (0, 1002)\t2\n",
      "  (0, 1003)\t1\n",
      "  (0, 1005)\t1\n",
      "  (0, 1083)\t1\n",
      "  :\t:\n",
      "  (0, 5288)\t1\n",
      "  (0, 5383)\t1\n",
      "  (0, 5406)\t2\n",
      "  (0, 5454)\t1\n",
      "  (0, 5506)\t1\n",
      "  (0, 5615)\t1\n",
      "  (0, 5644)\t1\n",
      "  (0, 5669)\t1\n",
      "  (0, 5718)\t1\n",
      "  (0, 5765)\t1\n",
      "  (0, 5791)\t1\n",
      "  (0, 5831)\t1\n",
      "  (0, 6079)\t1\n",
      "  (0, 6081)\t1\n",
      "  (0, 6172)\t1\n",
      "  (0, 6319)\t1\n",
      "  (0, 6360)\t2\n",
      "  (0, 6603)\t1\n",
      "  (0, 6640)\t1\n",
      "  (0, 6643)\t1\n",
      "  (0, 6654)\t1\n",
      "  (0, 6700)\t1\n",
      "  (0, 6706)\t1\n",
      "  (0, 6722)\t1\n",
      "  (0, 6759)\t1\n",
      "(1, 6893)\n"
     ]
    }
   ],
   "source": [
    "message4 = Data['description'][3]\n",
    "print(message4)\n",
    "# In[28]:\n",
    "#Checking the transformed vector representation of message number 4\n",
    "bow4 = bow_transformer.transform([message4])\n",
    "print(bow4)\n",
    "print(bow4.shape)"
   ]
  },
  {
   "cell_type": "code",
   "execution_count": 39,
   "metadata": {},
   "outputs": [
    {
     "data": {
      "text/plain": [
       "<308x6893 sparse matrix of type '<class 'numpy.int64'>'\n",
       "\twith 18725 stored elements in Compressed Sparse Row format>"
      ]
     },
     "execution_count": 39,
     "metadata": {},
     "output_type": "execute_result"
    }
   ],
   "source": [
    "#Applyting Vectorization to all the messages of dataset\n",
    "messages_bow = bow_transformer.transform(Data['description'])\n",
    "messages_bow"
   ]
  },
  {
   "cell_type": "code",
   "execution_count": 40,
   "metadata": {},
   "outputs": [
    {
     "name": "stdout",
     "output_type": "stream",
     "text": [
      "Shape of Sparse Matrix:  (308, 6893)\n",
      "Amount of Non-Zero occurences:  18725\n"
     ]
    }
   ],
   "source": [
    "print('Shape of Sparse Matrix: ', messages_bow.shape)\n",
    "print('Amount of Non-Zero occurences: ', messages_bow.nnz)"
   ]
  },
  {
   "cell_type": "code",
   "execution_count": 43,
   "metadata": {},
   "outputs": [
    {
     "data": {
      "text/plain": [
       "42"
      ]
     },
     "execution_count": 43,
     "metadata": {},
     "output_type": "execute_result"
    }
   ],
   "source": [
    "#Using TFIDF (Term Frequncy - Inverse Document Frequency) method to findtf-idf weight of words in the message to understand their importance\n",
    "#TF(t) = (Number of times term t appears in a document) / (Total number of terms in the document)\n",
    "#IDF(t) = log_e(Total number of documents / Number of documents with term t in it).\n",
    "#Tf-idf weight is the product of these quantities."
   ]
  },
  {
   "cell_type": "code",
   "execution_count": 44,
   "metadata": {},
   "outputs": [
    {
     "name": "stdout",
     "output_type": "stream",
     "text": [
      "  (0, 6759)\t0.04876308780586087\n",
      "  (0, 6722)\t0.056671837889546745\n",
      "  (0, 6706)\t0.08070966217069045\n",
      "  (0, 6700)\t0.0887559816637984\n",
      "  (0, 6654)\t0.056671837889546745\n",
      "  (0, 6643)\t0.0887559816637984\n",
      "  (0, 6640)\t0.05887331171742003\n",
      "  (0, 6603)\t0.08422452952104752\n",
      "  (0, 6360)\t0.1614193243413809\n",
      "  (0, 6319)\t0.0887559816637984\n",
      "  (0, 6172)\t0.06449151178530098\n",
      "  (0, 6081)\t0.08422452952104752\n",
      "  (0, 6079)\t0.056001455983892785\n",
      "  (0, 5831)\t0.06829019937747365\n",
      "  (0, 5791)\t0.05414618504275938\n",
      "  (0, 5765)\t0.08422452952104752\n",
      "  (0, 5718)\t0.04352244076716893\n",
      "  (0, 5669)\t0.09514270474768272\n",
      "  (0, 5644)\t0.056001455983892785\n",
      "  (0, 5615)\t0.0778378064371632\n",
      "  (0, 5506)\t0.056671837889546745\n",
      "  (0, 5454)\t0.05887331171742003\n",
      "  (0, 5406)\t0.11620957740283333\n",
      "  (0, 5383)\t0.04444026914042776\n",
      "  (0, 5288)\t0.0887559816637984\n",
      "  :\t:\n",
      "  (0, 1083)\t0.06829019937747365\n",
      "  (0, 1005)\t0.08422452952104752\n",
      "  (0, 1003)\t0.0778378064371632\n",
      "  (0, 1002)\t0.1775119633275968\n",
      "  (0, 921)\t0.06691963121052799\n",
      "  (0, 909)\t0.03416510553062238\n",
      "  (0, 899)\t0.09514270474768272\n",
      "  (0, 845)\t0.0887559816637984\n",
      "  (0, 840)\t0.08070966217069045\n",
      "  (0, 819)\t0.09514270474768272\n",
      "  (0, 812)\t0.04718661347478145\n",
      "  (0, 807)\t0.0887559816637984\n",
      "  (0, 716)\t0.16844905904209503\n",
      "  (0, 715)\t0.059681263032496074\n",
      "  (0, 648)\t0.07540968701193618\n",
      "  (0, 644)\t0.1429021667065578\n",
      "  (0, 638)\t0.08070966217069045\n",
      "  (0, 540)\t0.08422452952104752\n",
      "  (0, 539)\t0.0887559816637984\n",
      "  (0, 532)\t0.2189626219576707\n",
      "  (0, 460)\t0.11620957740283333\n",
      "  (0, 456)\t0.0887559816637984\n",
      "  (0, 413)\t0.0887559816637984\n",
      "  (0, 356)\t0.09514270474768272\n",
      "  (0, 138)\t0.0778378064371632\n"
     ]
    }
   ],
   "source": [
    "#Applying TF-IDF for message 4 and printing values.\n",
    "from sklearn.feature_extraction.text import TfidfTransformer\n",
    "\n",
    "tfidf_transformer = TfidfTransformer().fit(messages_bow)\n",
    "tfidf4 = tfidf_transformer.transform(bow4)\n",
    "print(tfidf4)"
   ]
  },
  {
   "cell_type": "code",
   "execution_count": 50,
   "metadata": {},
   "outputs": [
    {
     "name": "stdout",
     "output_type": "stream",
     "text": [
      "3.299354072412599\n",
      "4.536116699561527\n"
     ]
    }
   ],
   "source": [
    "#Checking the weight of some random words from the messages.\n",
    "print(tfidf_transformer.idf_[bow_transformer.vocabulary_['Free']])\n",
    "print(tfidf_transformer.idf_[bow_transformer.vocabulary_['university']])"
   ]
  },
  {
   "cell_type": "code",
   "execution_count": 52,
   "metadata": {},
   "outputs": [
    {
     "name": "stdout",
     "output_type": "stream",
     "text": [
      "(308, 6893)\n"
     ]
    }
   ],
   "source": [
    "#Applying the tfidf to all the messages.\n",
    "description_tfidf = tfidf_transformer.transform(messages_bow)\n",
    "print(description_tfidf.shape)"
   ]
  },
  {
   "cell_type": "code",
   "execution_count": 54,
   "metadata": {
    "collapsed": true
   },
   "outputs": [],
   "source": [
    "from sklearn.naive_bayes import MultinomialNB\n",
    "Food_detect_model = MultinomialNB().fit(description_tfidf, Data['Status'])"
   ]
  },
  {
   "cell_type": "code",
   "execution_count": 56,
   "metadata": {},
   "outputs": [
    {
     "name": "stdout",
     "output_type": "stream",
     "text": [
      "predicted: no\n",
      "expected: no\n"
     ]
    }
   ],
   "source": [
    "print('predicted:', Food_detect_model.predict(tfidf4)[0])\n",
    "print('expected:', Data.Status[3])"
   ]
  },
  {
   "cell_type": "code",
   "execution_count": 57,
   "metadata": {},
   "outputs": [
    {
     "name": "stdout",
     "output_type": "stream",
     "text": [
      "['no' 'no' 'no' 'no' 'no' 'no' 'no' 'no' 'no' 'no' 'no' 'no' 'no' 'no'\n",
      " 'no' 'no' 'no' 'no' 'no' 'no' 'yes' 'yes' 'yes' 'yes' 'yes' 'no' 'no'\n",
      " 'no' 'no' 'no' 'no' 'no' 'no' 'no' 'no' 'no' 'no' 'yes' 'no' 'no' 'no'\n",
      " 'no' 'no' 'no' 'yes' 'yes' 'no' 'no' 'yes' 'no' 'no' 'no' 'no' 'no' 'no'\n",
      " 'no' 'no' 'no' 'no' 'no' 'no' 'yes' 'yes' 'yes' 'yes' 'no' 'no' 'yes'\n",
      " 'no' 'no' 'no' 'no' 'yes' 'yes' 'no' 'yes' 'yes' 'yes' 'yes' 'no' 'yes'\n",
      " 'yes' 'yes' 'yes' 'no' 'yes' 'yes' 'yes' 'no' 'yes' 'no' 'yes' 'yes' 'no'\n",
      " 'no' 'no' 'no' 'yes' 'no' 'yes' 'yes' 'yes' 'no' 'no' 'yes' 'no' 'yes'\n",
      " 'no' 'no' 'no' 'yes' 'no' 'yes' 'yes' 'no' 'yes' 'yes' 'yes' 'yes' 'yes'\n",
      " 'no' 'yes' 'no' 'no' 'yes' 'no' 'no' 'yes' 'yes' 'no' 'yes' 'no' 'yes'\n",
      " 'yes' 'no' 'yes' 'no' 'yes' 'no' 'yes' 'yes' 'no' 'no' 'yes' 'yes' 'no'\n",
      " 'yes' 'yes' 'no' 'yes' 'yes' 'yes' 'yes' 'yes' 'no' 'yes' 'no' 'no' 'no'\n",
      " 'no' 'yes' 'yes' 'no' 'yes' 'no' 'no' 'no' 'no' 'yes' 'no' 'no' 'yes'\n",
      " 'no' 'no' 'yes' 'yes' 'yes' 'yes' 'yes' 'no' 'yes' 'yes' 'yes' 'yes'\n",
      " 'yes' 'no' 'no' 'no' 'no' 'yes' 'no' 'no' 'yes' 'yes' 'no' 'no' 'no' 'no'\n",
      " 'no' 'no' 'no' 'yes' 'yes' 'no' 'no' 'yes' 'yes' 'no' 'yes' 'yes' 'yes'\n",
      " 'no' 'no' 'yes' 'no' 'yes' 'yes' 'yes' 'yes' 'yes' 'yes' 'no' 'yes' 'no'\n",
      " 'no' 'yes' 'yes' 'yes' 'yes' 'no' 'no' 'no' 'yes' 'no' 'yes' 'no' 'yes'\n",
      " 'yes' 'no' 'yes' 'yes' 'yes' 'no' 'yes' 'yes' 'no' 'yes' 'yes' 'no' 'no'\n",
      " 'yes' 'yes' 'no' 'yes' 'no' 'yes' 'no' 'no' 'yes' 'yes' 'yes' 'yes' 'yes'\n",
      " 'no' 'no' 'no' 'no' 'yes' 'yes' 'no' 'no' 'no' 'no' 'yes' 'yes' 'yes'\n",
      " 'no' 'yes' 'no' 'no' 'yes' 'no' 'yes' 'yes' 'yes' 'yes' 'no' 'yes' 'yes'\n",
      " 'yes' 'yes' 'no' 'yes' 'yes' 'yes' 'yes' 'no' 'yes' 'no' 'yes' 'no' 'no'\n",
      " 'yes' 'no' 'no' 'no' 'yes' 'yes']\n"
     ]
    }
   ],
   "source": [
    "# MODEL EVALUATION\n",
    "# Applying the model to the entire dataset.\n",
    "all_predictions = Food_detect_model.predict(description_tfidf)\n",
    "print(all_predictions)\n"
   ]
  },
  {
   "cell_type": "code",
   "execution_count": 58,
   "metadata": {},
   "outputs": [
    {
     "name": "stdout",
     "output_type": "stream",
     "text": [
      "             precision    recall  f1-score   support\n",
      "\n",
      "         no       0.98      0.95      0.96       166\n",
      "        yes       0.95      0.97      0.96       142\n",
      "\n",
      "avg / total       0.96      0.96      0.96       308\n",
      "\n"
     ]
    }
   ],
   "source": [
    "# USing Scikit Learn's Classification_report to check how our model performed.\n",
    "# Precsion = TP/FP+TP, Recall= TP/TP+FN\n",
    "from sklearn.metrics import classification_report\n",
    "print (classification_report(Data['Status'], all_predictions))\n"
   ]
  },
  {
   "cell_type": "code",
   "execution_count": 63,
   "metadata": {},
   "outputs": [
    {
     "name": "stdout",
     "output_type": "stream",
     "text": [
      "246 62 308\n"
     ]
    },
    {
     "data": {
      "text/plain": [
       "279    Get ready to SPRING into the new semester with...\n",
       "287    Feeling Chilly? Stop by the Hillel table for f...\n",
       "155    Come to the Centre Gallery's Open Mic Night th...\n",
       "14     Buy your tickets NOW at http://www.usfpamsa.or...\n",
       "188    Hey Everyone! FWEA West Coast Chapter is hosti...\n",
       "125    The USF Botanical Gardens is hosting its first...\n",
       "6      Sunset Events and Disco Donnie Presents in Ass...\n",
       "30     Calling all poets, musicians, dancers, musicia...\n",
       "18     Join us in MSC 3306 on Wednesday, May 24th at ...\n",
       "281    On Fridays, the University of South Florida Bo...\n",
       "118    Movies on the Lawn is back with the summer blo...\n",
       "191    GREETINGS!\\n\\nThe Vietnamese Student Associati...\n",
       "104    A presentation by the USF Community Emergency ...\n",
       "218    The biggest event of the semester is here. You...\n",
       "182    Join us in the Patel Center for Global Solutio...\n",
       "283    Welcome back Video Game Club! Take a break fro...\n",
       "9      Sunset Events and Disco Donnie Presents in Ass...\n",
       "36     *EMAIL ADDRESSES AND DRAFT IN HERE*.    On Mon...\n",
       "201    This week is our Spoopy Shabbat, and we'd like...\n",
       "83     We are happy to announce that we will be hosti...\n",
       "306    Start the week with something sweet! Join USF ...\n",
       "262    Stop by Hillel every Monday during Fall and Sp...\n",
       "178    Homecoming is better in Paint! Join the Beef S...\n",
       "128    Join ISA in collaboration with the Latin Ameri...\n",
       "62     The Campus Activites Board is proud to annouce...\n",
       "99     USF Humanities Institute presents Blood Work: ...\n",
       "112    Hi everyone! I hope everyone is safe after Hur...\n",
       "87     Join us at the USF Muma College of Business fo...\n",
       "238    The USF Botanical Gardens and the Tampa Orchid...\n",
       "145    Tampa Orchid Club is having its Orchid Expo Sh...\n",
       "                             ...                        \n",
       "129    Dr. Steven A. Cook is Eni Enrico Mattei senior...\n",
       "65     Come get a free car wash from A.S.A, C.C.E & J...\n",
       "226    Would you like to improve safety on campus? Co...\n",
       "40     Come join the Center for Student Involvement f...\n",
       "0      Come to our event where there will be games, p...\n",
       "86     Join us for a USF Relay For Life ice cream soc...\n",
       "297    Join the Office of Multicultural Affairs as we...\n",
       "102    On Fridays, the University of South Florida Bo...\n",
       "211    We're selling onigiri (rice balls) with tuna m...\n",
       "162    2017: INCREASING GIRLS’ ACCESS TO EDUCATION\\n\\...\n",
       "217    Join us on the second floor of the MSC for Cra...\n",
       "277    Come help the USF Muma College of Business kic...\n",
       "299    Students are encouraged to come out and learn ...\n",
       "34     The Trump Administration's all-out assault on ...\n",
       "109    Tampa, FL (Sep. 5 - Sep. 15, 2017)\\nSmoosh is ...\n",
       "41     Journey to the East is coming to #USF for its ...\n",
       "16     Bengali Students Association's 2nd Annual Desi...\n",
       "113    Old teams, new teams, people interested in sta...\n",
       "48     Welcome back! We will be holding our Week Of W...\n",
       "290    We will be holding our first meeting of the se...\n",
       "275    New to USF? Want to join a new club for the Sp...\n",
       "96     Tampa, FL (Aug. 21 - Sep. 1, 2017)\\n\\nCentre G...\n",
       "35     The urgency of this moment calls us to stand, ...\n",
       "92     Come out to our first Committee meeting of the...\n",
       "280    Are you excited to start off the new year? 😄😄😄...\n",
       "185    On Fridays, the University of South Florida Bo...\n",
       "267    Stop by Hillel every Monday during Fall and Sp...\n",
       "174    Interested in networking with UCSF MDs, MD PhD...\n",
       "215    Hey Pengyou ! 嘿 朋友们! \\nOur next event is comin...\n",
       "179    The long-anticipated event of the year is here...\n",
       "Name: description, Length: 62, dtype: object"
      ]
     },
     "execution_count": 63,
     "metadata": {},
     "output_type": "execute_result"
    }
   ],
   "source": [
    "#Splitting the data into Training and testing\n",
    "from sklearn.model_selection import train_test_split\n",
    "\n",
    "des_train, des_test, status_train, status_test = train_test_split(Data['description'], Data['Status'], test_size=0.2)\n",
    "\n",
    "print(len(des_train), len(des_test), len(des_train) + len(des_test))\n",
    "\n",
    "des_test\n"
   ]
  },
  {
   "cell_type": "code",
   "execution_count": 67,
   "metadata": {},
   "outputs": [
    {
     "name": "stdout",
     "output_type": "stream",
     "text": [
      "['no' 'yes' 'no' 'no' 'no' 'no' 'no' 'no' 'no' 'no' 'yes' 'no' 'no' 'yes'\n",
      " 'yes' 'no' 'no' 'no' 'yes' 'yes' 'yes' 'yes' 'yes' 'no' 'yes' 'no' 'no'\n",
      " 'no' 'no' 'no' 'no' 'no' 'no' 'no' 'no' 'yes' 'yes' 'yes' 'no' 'no' 'no'\n",
      " 'no' 'no' 'yes' 'no' 'no' 'no' 'no' 'no' 'no' 'yes' 'yes' 'no' 'yes' 'no'\n",
      " 'yes' 'no' 'no' 'yes' 'no' 'yes' 'no']\n",
      "             precision    recall  f1-score   support\n",
      "\n",
      "         no       0.84      0.62      0.71        42\n",
      "        yes       0.48      0.75      0.59        20\n",
      "\n",
      "avg / total       0.72      0.66      0.67        62\n",
      "\n"
     ]
    }
   ],
   "source": [
    "# Using Pipeline to perform sequence of transformations\n",
    "from sklearn.pipeline import Pipeline\n",
    "pipeline = Pipeline([\n",
    "    ('bow', CountVectorizer(analyzer=text_process)),  # strings to token integer counts\n",
    "    ('tfidf', TfidfTransformer()),  # integer counts to weighted TF-IDF scores\n",
    "    ('classifier', MultinomialNB()),  # train on TF-IDF vectors w/ Naive Bayes classifier\n",
    "])\n",
    "\n",
    "# In[42]:\n",
    "pipeline.fit(des_train,status_train) # Training the data\n",
    "\n",
    "# In[43]:\n",
    "predictions = pipeline.predict(des_test) # Predictions on Test Data\n",
    "\n",
    "print(predictions)\n",
    "\n",
    "# In[44]:\n",
    "print(classification_report(predictions,status_test)) # Final Evaluation of the complete model"
   ]
  },
  {
   "cell_type": "code",
   "execution_count": null,
   "metadata": {
    "collapsed": true
   },
   "outputs": [],
   "source": []
  },
  {
   "cell_type": "code",
   "execution_count": null,
   "metadata": {
    "collapsed": true
   },
   "outputs": [],
   "source": []
  }
 ],
 "metadata": {
  "kernelspec": {
   "display_name": "Python 3",
   "language": "python",
   "name": "python3"
  },
  "language_info": {
   "codemirror_mode": {
    "name": "ipython",
    "version": 3
   },
   "file_extension": ".py",
   "mimetype": "text/x-python",
   "name": "python",
   "nbconvert_exporter": "python",
   "pygments_lexer": "ipython3",
   "version": "3.6.3"
  }
 },
 "nbformat": 4,
 "nbformat_minor": 2
}
